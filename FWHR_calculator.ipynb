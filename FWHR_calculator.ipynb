{
  "cells": [
    {
      "cell_type": "markdown",
      "metadata": {
        "id": "view-in-github",
        "colab_type": "text"
      },
      "source": [
        "<a href=\"https://colab.research.google.com/github/Reqzonee/testrepopub/blob/main/FWHR_calculator.ipynb\" target=\"_parent\"><img src=\"https://colab.research.google.com/assets/colab-badge.svg\" alt=\"Open In Colab\"/></a>"
      ]
    },
    {
      "cell_type": "markdown",
      "metadata": {
        "id": "a0KdQUMdbSuI"
      },
      "source": [
        "# Introduction"
      ]
    },
    {
      "cell_type": "markdown",
      "metadata": {
        "id": "hHb0LtSMbSuJ"
      },
      "source": [
        "This notebook contains all the code needed to automatically calculate the Facial-Width-Height ratio based on an image using the `face_recognition` package.  \n",
        "**See: https://github.com/ageitgey/face_recognition**"
      ]
    },
    {
      "cell_type": "code",
      "execution_count": null,
      "metadata": {
        "collapsed": true,
        "id": "flJyy7RobSuK"
      },
      "outputs": [],
      "source": [
        "NAME = 'FWHR_calculator'\n",
        "PYTHON_VERSION = '3.5'\n",
        "AUTHOR = 'Ties de Kok'"
      ]
    },
    {
      "cell_type": "markdown",
      "metadata": {
        "id": "ESoBSWHDbSuK"
      },
      "source": [
        "## Looking for examples? Click here: [Examples](#examples)"
      ]
    },
    {
      "cell_type": "markdown",
      "metadata": {
        "id": "29D_YTlEbSuK"
      },
      "source": [
        "# Preamble"
      ]
    },
    {
      "cell_type": "markdown",
      "metadata": {
        "id": "MSbnFAbKbSuK"
      },
      "source": [
        "## Imports"
      ]
    },
    {
      "cell_type": "code",
      "execution_count": null,
      "metadata": {
        "scrolled": true,
        "colab": {
          "base_uri": "https://localhost:8080/"
        },
        "id": "xUI5NReUbSuL",
        "outputId": "444dceb5-9dd5-4611-f138-517591303421"
      },
      "outputs": [
        {
          "output_type": "stream",
          "name": "stdout",
          "text": [
            "Populating the interactive namespace from numpy and matplotlib\n"
          ]
        }
      ],
      "source": [
        "%pylab inline"
      ]
    },
    {
      "cell_type": "code",
      "source": [
        "!pip3 install face_recognition"
      ],
      "metadata": {
        "colab": {
          "base_uri": "https://localhost:8080/"
        },
        "id": "Ileb7AGUoTjq",
        "outputId": "43ad0644-7750-4d47-8736-d1d07d59770a"
      },
      "execution_count": null,
      "outputs": [
        {
          "output_type": "stream",
          "name": "stdout",
          "text": [
            "Requirement already satisfied: face_recognition in /usr/local/lib/python3.10/dist-packages (1.3.0)\n",
            "Requirement already satisfied: face-recognition-models>=0.3.0 in /usr/local/lib/python3.10/dist-packages (from face_recognition) (0.3.0)\n",
            "Requirement already satisfied: Click>=6.0 in /usr/local/lib/python3.10/dist-packages (from face_recognition) (8.1.7)\n",
            "Requirement already satisfied: dlib>=19.7 in /usr/local/lib/python3.10/dist-packages (from face_recognition) (19.24.2)\n",
            "Requirement already satisfied: numpy in /usr/local/lib/python3.10/dist-packages (from face_recognition) (1.23.5)\n",
            "Requirement already satisfied: Pillow in /usr/local/lib/python3.10/dist-packages (from face_recognition) (9.4.0)\n"
          ]
        }
      ]
    },
    {
      "cell_type": "code",
      "execution_count": null,
      "metadata": {
        "collapsed": true,
        "id": "-I6ULJcebSuL"
      },
      "outputs": [],
      "source": [
        "import math\n",
        "\n",
        "from matplotlib.pyplot import imshow\n",
        "from PIL import Image, ImageDraw\n",
        "import face_recognition\n",
        "\n",
        "import urllib.request"
      ]
    },
    {
      "cell_type": "markdown",
      "metadata": {
        "id": "bb2VG91PbSuL"
      },
      "source": [
        "**All the heavy-lifting is done by the `face_recognition` package, you need to have it installed!**  \n",
        "**See: https://github.com/ageitgey/face_recognition**"
      ]
    },
    {
      "cell_type": "markdown",
      "metadata": {
        "id": "rpjdvX9lbSuL"
      },
      "source": [
        "# Main Code"
      ]
    },
    {
      "cell_type": "markdown",
      "metadata": {
        "id": "gdJ6AFOQbSuM"
      },
      "source": [
        "### Function to load an image"
      ]
    },
    {
      "cell_type": "markdown",
      "metadata": {
        "id": "AN4YN2ObbSuM"
      },
      "source": [
        "This function loads an image from the drive or downloads it from a link if `url` is set to `True`."
      ]
    },
    {
      "cell_type": "code",
      "source": [
        "pip install anvil-uplink"
      ],
      "metadata": {
        "colab": {
          "base_uri": "https://localhost:8080/",
          "height": 253
        },
        "id": "tfxCrLQ34mhd",
        "outputId": "3449cc97-28b3-4118-8739-3717b3573c67"
      },
      "execution_count": null,
      "outputs": [
        {
          "output_type": "stream",
          "name": "stdout",
          "text": [
            "Requirement already satisfied: anvil-uplink in /usr/local/lib/python3.10/dist-packages (0.4.2)\n",
            "Collecting argparse (from anvil-uplink)\n",
            "  Using cached argparse-1.4.0-py2.py3-none-any.whl (23 kB)\n",
            "Requirement already satisfied: future in /usr/local/lib/python3.10/dist-packages (from anvil-uplink) (0.18.3)\n",
            "Requirement already satisfied: six in /usr/local/lib/python3.10/dist-packages (from anvil-uplink) (1.16.0)\n",
            "Requirement already satisfied: ws4py in /usr/local/lib/python3.10/dist-packages (from anvil-uplink) (0.5.1)\n",
            "Installing collected packages: argparse\n",
            "Successfully installed argparse-1.4.0\n"
          ]
        },
        {
          "output_type": "display_data",
          "data": {
            "application/vnd.colab-display-data+json": {
              "pip_warning": {
                "packages": [
                  "argparse"
                ]
              }
            }
          },
          "metadata": {}
        }
      ]
    },
    {
      "cell_type": "code",
      "source": [
        "import anvil.server\n",
        "\n",
        "anvil.server.connect(\"server_TQF6AT5FBRO7YOKTM65DX3Y7-DHYDGIZPLTLSBYQV\")"
      ],
      "metadata": {
        "id": "ic91r6ja4okL"
      },
      "execution_count": null,
      "outputs": []
    },
    {
      "cell_type": "code",
      "execution_count": null,
      "metadata": {
        "collapsed": true,
        "id": "VoiqbMkMbSuM"
      },
      "outputs": [],
      "source": [
        "def load_image(path, url=False):\n",
        "    if not url:\n",
        "        return face_recognition.load_image_file(path)\n",
        "    else:\n",
        "        if path[-3:] == 'jpg' or  path[-3:] == 'peg':\n",
        "            urllib.request.urlretrieve(path, 'tmp.jpg')\n",
        "            return face_recognition.load_image_file('tmp.jpg')\n",
        "        elif path[-3:] == 'png':\n",
        "            urllib.request.urlretrieve(path, 'tmp.png')\n",
        "            return face_recognition.load_image_file('tmp.png')\n",
        "        else:\n",
        "            print(\"Unknown image type\")"
      ]
    },
    {
      "cell_type": "markdown",
      "metadata": {
        "id": "ZZlM21X7bSuM"
      },
      "source": [
        "### Function to get the contour face points"
      ]
    },
    {
      "cell_type": "markdown",
      "metadata": {
        "id": "a_8eZX1bbSuM"
      },
      "source": [
        "This function calculates the coordinates for the corners of the \"FWHR\" box.  \n",
        "*Note 1:* it is possible to calculate the top line based on either the bottom of the eyebrows (`top = \"eyebrow\"`) or the eyelids (`top = \"eyelid\"`).  \n",
        "*Note 2:* to counter-act small amounts of rotation it will by default take the average between the height of the two top points."
      ]
    },
    {
      "cell_type": "code",
      "execution_count": null,
      "metadata": {
        "collapsed": true,
        "id": "qsNNibK4bSuM"
      },
      "outputs": [],
      "source": [
        "def get_face_points(points, method='average', top='eyebrow'):\n",
        "    width_left, width_right = points[0], points[16]\n",
        "\n",
        "    if top == 'eyebrow':\n",
        "        top_left = points[18]\n",
        "        top_right = points[25]\n",
        "\n",
        "    elif top == 'eyelid':\n",
        "        top_left = points[37]\n",
        "        top_right = points[43]\n",
        "\n",
        "    else:\n",
        "        raise ValueError('Invalid top point, use either \"eyebrow\" or \"eyelid\"')\n",
        "\n",
        "    bottom_left, bottom_right = points[50], points[52]\n",
        "\n",
        "    if method == 'left':\n",
        "        coords = (width_left[0], width_right[0], top_left[1], bottom_left[1])\n",
        "\n",
        "    elif method == 'right':\n",
        "        coords = (width_left[0], width_right[0], top_right[1], bottom_right[1])\n",
        "\n",
        "    else:\n",
        "        top_average = int((top_left[1] + top_right[1]) / 2)\n",
        "        bottom_average = int((bottom_left[1] + bottom_right[1]) / 2)\n",
        "        coords = (width_left[0], width_right[0], top_average, bottom_average)\n",
        "\n",
        "    ## Move the line just a little above the top of the eye to the eyelid\n",
        "    if top == 'eyelid':\n",
        "        coords = (coords[0], coords[1], coords[2] - 4, coords[3])\n",
        "\n",
        "    return {'top_left' : (coords[0], coords[2]),\n",
        "            'bottom_left' : (coords[0], coords[3]),\n",
        "            'top_right' : (coords[1], coords[2]),\n",
        "            'bottom_right' : (coords[1], coords[3])\n",
        "           }"
      ]
    },
    {
      "cell_type": "markdown",
      "metadata": {
        "id": "CuQTkR_9bSuM"
      },
      "source": [
        "### Function to check suitability of picture"
      ]
    },
    {
      "cell_type": "markdown",
      "metadata": {
        "id": "FZrJloXjbSuM"
      },
      "source": [
        "This function checks whether a picture contains a person that is looking straight at the camera."
      ]
    },
    {
      "cell_type": "code",
      "execution_count": null,
      "metadata": {
        "collapsed": true,
        "id": "CHeysPiMbSuN"
      },
      "outputs": [],
      "source": [
        "def good_picture_check(p, debug=False):\n",
        "    ## To scale for picture size\n",
        "    width_im = (p[16][0] - p[0][0]) / 100\n",
        "\n",
        "    ## Difference in height between eyes\n",
        "    eye_y_l = (p[37][1] + p[41][1]) / 2.0\n",
        "    eye_y_r = (p[44][1] + p[46][1]) / 2.0\n",
        "    eye_dif = (eye_y_r - eye_y_l) / width_im\n",
        "\n",
        "    ## Difference top / bottom point nose\n",
        "    nose_dif = (p[30][0] - p[27][0]) / width_im\n",
        "\n",
        "    ## Space between face-edge to eye, left vs. right\n",
        "    left_space = p[36][0] - p[0][0]\n",
        "    right_space = p[16][0] - p[45][0]\n",
        "    space_ratio = left_space / right_space\n",
        "\n",
        "    if debug:\n",
        "        print(eye_dif, nose_dif, space_ratio)\n",
        "\n",
        "    ## These rules are not perfect, determined by trying a bunch of \"bad\" pictures\n",
        "    if eye_dif > 5 or nose_dif > 3.5 or space_ratio > 3:\n",
        "        return False\n",
        "    else:\n",
        "        return True"
      ]
    },
    {
      "cell_type": "markdown",
      "metadata": {
        "id": "7DCSrmJlbSuN"
      },
      "source": [
        "### Function to calculate the FWHR"
      ]
    },
    {
      "cell_type": "markdown",
      "metadata": {
        "id": "a21YHSFobSuN"
      },
      "source": [
        "This function calculates the FWHR based on the corners: `Width / Height`"
      ]
    },
    {
      "cell_type": "code",
      "execution_count": null,
      "metadata": {
        "collapsed": true,
        "id": "XnVRRfzxbSuN"
      },
      "outputs": [],
      "source": [
        "def FWHR_calc(corners):\n",
        "    width = corners['top_right'][0] - corners['top_left'][0]\n",
        "    height = corners['bottom_left'][1] - corners['top_left'][1]\n",
        "    return float(width) / float(height)"
      ]
    },
    {
      "cell_type": "markdown",
      "metadata": {
        "id": "9mkida-vbSuN"
      },
      "source": [
        "### Function to show the FWHR box on the image"
      ]
    },
    {
      "cell_type": "markdown",
      "metadata": {
        "id": "KA3DoUmCbSuN"
      },
      "source": [
        "This function shows the FWHR box on the original image."
      ]
    },
    {
      "cell_type": "code",
      "execution_count": null,
      "metadata": {
        "collapsed": true,
        "id": "_Om9yEYDbSuN"
      },
      "outputs": [],
      "source": [
        "def show_box(image, corners):\n",
        "    pil_image = Image.fromarray(image)\n",
        "    w, h = pil_image.size\n",
        "\n",
        "    ## Automatically determine width of the line depending on size of picture\n",
        "    line_width = math.ceil(h / 100)\n",
        "\n",
        "    d = ImageDraw.Draw(pil_image)\n",
        "    d.line([corners['bottom_left'], corners['top_left']], width = line_width)\n",
        "    d.line([corners['bottom_left'], corners['bottom_right']], width = line_width)\n",
        "    d.line([corners['top_left'], corners['top_right']], width = line_width)\n",
        "    d.line([corners['top_right'], corners['bottom_right']], width = line_width)\n",
        "\n",
        "    imshow(pil_image)"
      ]
    },
    {
      "cell_type": "markdown",
      "metadata": {
        "id": "VeSMIL52bSuN"
      },
      "source": [
        "### Final function that combines the previous functions"
      ]
    },
    {
      "cell_type": "markdown",
      "metadata": {
        "id": "rqC2t53EbSuN"
      },
      "source": [
        "This function combines all the previous logic into one function.  \n",
        "\n",
        "Arguments:\n",
        "\n",
        "`image_path` $\\rightarrow$ path or URL to image  \n",
        "`url` $\\rightarrow$ set to `True` if `image_path` is a url  \n",
        "`show` $\\rightarrow$ set to `False` if you only want it to return the FWHR  \n",
        "`method` $\\rightarrow$ determines which eye to use for the top point: `left`, `right`, or `average`  \n",
        "`top` $\\rightarrow$ determines whether to use the `eyebrow` as top point or `eyelid` as top point  \n"
      ]
    },
    {
      "cell_type": "code",
      "execution_count": null,
      "metadata": {
        "collapsed": true,
        "id": "ib1lfQukbSuN"
      },
      "outputs": [],
      "source": [
        "@anvil.server.callable\n",
        "def get_fwhr(image_path, url=False, show=True, method='average', top='eyelid'):\n",
        "    image = load_image(image_path, url=False)\n",
        "    landmarks = face_recognition.api._raw_face_landmarks(image)\n",
        "    landmarks_as_tuples = [(p.x, p.y) for p in landmarks[0].parts()]\n",
        "\n",
        "    if good_picture_check(landmarks_as_tuples):\n",
        "        corners = get_face_points(landmarks_as_tuples, method=method, top = top)\n",
        "        fwh_ratio = FWHR_calc(corners)\n",
        "\n",
        "        if show:\n",
        "            print('The Facial-Width-Height ratio is: {}'.format(fwh_ratio))\n",
        "            show_box(image, corners)\n",
        "        else:\n",
        "            return fwh_ratio\n",
        "    else:\n",
        "        if show:\n",
        "            print(\"Picture is not suitable to calculate fwhr.\")\n",
        "            imshow(image)\n",
        "        else:\n",
        "            return None"
      ]
    },
    {
      "cell_type": "code",
      "source": [],
      "metadata": {
        "id": "-Wieno0FBcVO"
      },
      "execution_count": null,
      "outputs": []
    },
    {
      "cell_type": "markdown",
      "metadata": {
        "id": "bPgV7jyAbSuN"
      },
      "source": [
        "# Examples\n",
        "<a id='examples'></a>"
      ]
    },
    {
      "cell_type": "markdown",
      "metadata": {
        "id": "LQAUg_qcbSuN"
      },
      "source": [
        "## Basic example"
      ]
    },
    {
      "cell_type": "code",
      "source": [
        "obama_url = 'Tom.jpg'\n",
        "get_fwhr(obama_url, url=False, top = 'eyebrow')"
      ],
      "metadata": {
        "id": "8eIiF3TxvrtU"
      },
      "execution_count": null,
      "outputs": []
    }
  ],
  "metadata": {
    "anaconda-cloud": {},
    "kernelspec": {
      "display_name": "Python [conda root]",
      "language": "python",
      "name": "conda-root-py"
    },
    "language_info": {
      "codemirror_mode": {
        "name": "ipython",
        "version": 3
      },
      "file_extension": ".py",
      "mimetype": "text/x-python",
      "name": "python",
      "nbconvert_exporter": "python",
      "pygments_lexer": "ipython3",
      "version": "3.5.2"
    },
    "colab": {
      "provenance": [],
      "gpuType": "T4",
      "include_colab_link": true
    },
    "accelerator": "GPU"
  },
  "nbformat": 4,
  "nbformat_minor": 0
}